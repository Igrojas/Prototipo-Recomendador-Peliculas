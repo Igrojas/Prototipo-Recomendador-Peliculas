{
 "cells": [
  {
   "cell_type": "code",
   "execution_count": 1,
   "metadata": {},
   "outputs": [],
   "source": [
    "import pandas as pd"
   ]
  },
  {
   "cell_type": "code",
   "execution_count": 5,
   "metadata": {},
   "outputs": [
    {
     "name": "stdout",
     "output_type": "stream",
     "text": [
      "['igrojasro@hotmail.com', 'Princess Mononoke', 'Crouching Tiger, Hidden Dragon', 'Spider-Man: Across the Spider-Verse']\n",
      "['igrojasro@hotmail.com', 'Princess Mononoke', 'Crouching Tiger, Hidden Dragon', 'Spider-Man: Across the Spider-Verse']\n",
      "['pieroalarcon09@gmail.com', 'Pathala Bhairavi', \"Todd McFarlane's Spawn 2\", 'Doraemon: Nobita and the New Steel Troops: ~Winged Angels~']\n",
      "['ssalasjr@gmail.com', 'Inkaar', 'Lost Daughter', 'Tulipunainen kyyhkynen']\n",
      "['Leonor.martin.gerdes@gmail.com ', 'Up', 'Anbe Sivam', 'Joe Finds Grace']\n",
      "['crojasro00@gmail.com', 'Bhairava Dweepam', 'Aditya 369', 'Ejen Ali: The Movie']\n",
      "['bastian.j.martin.gerdes@gmail.com', 'Modern Times', 'City Lights', \"The Elusive Summer of '68\"]\n",
      "['crojasro00@gmail.com', 'Bhairava Dweepam', 'Aditya 369', 'Ejen Ali: The Movie']\n"
     ]
    }
   ],
   "source": [
    "# Cada excel de drive tiene Isu ID, hay que identificarlo\n",
    "# Cada HOJA de un EXCEL tiene su ID\n",
    "id_excel = '1T2H33PS-I0g0PhQyYblMrYcc8K3FSLbEkonV0VDYfwI'\n",
    "id_hoja = '1056449790'\n",
    "# URL general para leer una hoja especifica de un excel de drive\n",
    "url = f'https://docs.google.com/spreadsheets/d/{id_excel}/export?format=csv&gid={id_hoja}'\n",
    "number_already_answered = 0\n",
    "\n",
    "df_references_films = pd.read_csv(url, on_bad_lines='skip')\n",
    "\n",
    "#Recorrer Dataframe de películas\n",
    "for index, row in df_references_films.iterrows():\n",
    "  if (index + 1) > number_already_answered:\n",
    "    choices=[row[\"mail\"], row[\"title1\"],row[\"title2\"], row[\"title3\"]]\n",
    "\n",
    "    print(choices)"
   ]
  },
  {
   "cell_type": "code",
   "execution_count": null,
   "metadata": {},
   "outputs": [],
   "source": []
  }
 ],
 "metadata": {
  "kernelspec": {
   "display_name": "py39",
   "language": "python",
   "name": "python3"
  },
  "language_info": {
   "codemirror_mode": {
    "name": "ipython",
    "version": 3
   },
   "file_extension": ".py",
   "mimetype": "text/x-python",
   "name": "python",
   "nbconvert_exporter": "python",
   "pygments_lexer": "ipython3",
   "version": "3.9.18"
  }
 },
 "nbformat": 4,
 "nbformat_minor": 2
}
