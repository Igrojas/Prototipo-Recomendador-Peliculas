{
 "cells": [
  {
   "cell_type": "code",
   "execution_count": 1,
   "metadata": {},
   "outputs": [],
   "source": [
    "import pandas as pd"
   ]
  },
  {
   "cell_type": "code",
   "execution_count": 15,
   "metadata": {},
   "outputs": [
    {
     "name": "stdout",
     "output_type": "stream",
     "text": [
      "['Toy story', 'piratas del caribe', 'Mision imposible']\n",
      "['Toy story', 'piratas del caribe', 'Mision imposible']\n",
      "['Toy story', 'piratas del caribe', 'Mision imposible']\n",
      "['Toy story', 'piratas del caribe', 'Mision imposible']\n"
     ]
    }
   ],
   "source": [
    "# Cada excel de drive tiene Isu ID, hay que identificarlo\n",
    "# Cada HOJA de un EXCEL tiene su ID\n",
    "id_excel = '1T2H33PS-I0g0PhQyYblMrYcc8K3FSLbEkonV0VDYfwI'\n",
    "id_hoja = '1955373190'\n",
    "# URL general para leer una hoja especifica de un excel de drive\n",
    "url = f'https://docs.google.com/spreadsheets/d/{id_excel}/export?format=csv&gid={id_hoja}'\n",
    "number_already_answered = 0\n",
    "\n",
    "df_references_films = pd.read_csv(url, on_bad_lines='skip')\n",
    "\n",
    "#Recorrer Dataframe de películas\n",
    "for index, row in df_references_films.iterrows():\n",
    "  if (index + 1) > number_already_answered:\n",
    "    choices=[row[\"Type first title\"],row[\"Type second title\"], row[\"Type third title\"]]\n",
    "\n",
    "    print(choices)"
   ]
  },
  {
   "cell_type": "code",
   "execution_count": null,
   "metadata": {},
   "outputs": [],
   "source": []
  }
 ],
 "metadata": {
  "kernelspec": {
   "display_name": "py39",
   "language": "python",
   "name": "python3"
  },
  "language_info": {
   "codemirror_mode": {
    "name": "ipython",
    "version": 3
   },
   "file_extension": ".py",
   "mimetype": "text/x-python",
   "name": "python",
   "nbconvert_exporter": "python",
   "pygments_lexer": "ipython3",
   "version": "3.9.18"
  }
 },
 "nbformat": 4,
 "nbformat_minor": 2
}
